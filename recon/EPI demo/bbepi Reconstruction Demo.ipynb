{
 "cells": [
  {
   "cell_type": "markdown",
   "metadata": {},
   "source": [
    "# Hyperpolarized C13 EPI Reconstruction Demo"
   ]
  },
  {
   "cell_type": "markdown",
   "metadata": {},
   "source": [
    "The C13 echo-planar imaging (EPI) sequence used to acquire this demonsration data is built off of the product/clinical 1H EPI sequence on GE scanners. It utilizes the Orchestra reconstruction to load and process the C13 data (phase correction, ramp-sampling, etc.) for both offline and on-scanner reconstruction and dicom generation.\n",
    "\n",
    "Because of software licenses we cannot publicly share that code in its entirety. \n",
    "Please contact jeremy.gordon@ucsf.edu or peder.larson@ucsf.edu if you  would like access to the pulse sequence and reconstruction code.\n",
    "\n",
    "This pseudo reconstruction code will pre-whiten the multichannel data and then generate coil combined images using the pyruvate data to estimate the sensitivity map. More information on this 'refpeak' reconstruction can be found in Zhu et al., \"Coil combination methods for multi-channel hyperpolarized 13C imaging data from human studies\" \n",
    "https://doi.org/10.1016/j.jmr.2019.01.015\n",
    "\n",
    "## Install code, setup path\n",
    "\n",
    "To run this code you will need to clone the hyperpolarized MRI toolbox\n",
    "repository from github and add it to your matlab path. \n",
    "This can be done with the following command:\n",
    "'git clone https://github.com/LarsonLab/hyperpolarized-mri-toolbox/'\n",
    "\n",
    "This also requires the Optimization Toolbox (Matlab) or 'optim' toolbox (Octave) for the kinetic model fitting and Image Processing Toolbox ('image' in Octave) for plots\n"
   ]
  },
  {
   "cell_type": "code",
   "execution_count": 1,
   "metadata": {},
   "outputs": [],
   "source": [
    "%addpath(genpath('/Users/plarson/Documents/GitHub/hyperpolarized-mri-toolbox/'))\n",
    "%pkg load optim % for fitting functions to work in Octave\n",
    "%pkg load image"
   ]
  },
  {
   "cell_type": "code",
   "execution_count": 2,
   "metadata": {},
   "outputs": [
    {
     "name": "stdout",
     "output_type": "stream",
     "text": [
      "warning: function C:\\Users\\PLarson\\Documents\\GitHub\\hyperpolarized-mri-toolbox\\simulations\\metabolic_phantom\\sphere.m shadows a core library function\n",
      "warning: called from\n",
      "    startup at line 2 column 1\n",
      "loading optim\n",
      "warning: isdir is obsolete; use isfolder or dir_in_loadpath instead\n",
      "loading image\n"
     ]
    }
   ],
   "source": [
    "% setup hyperpolarized-mri-toolbox\n",
    "cd ../../\n",
    "startup\n",
    "cd 'recon/EPI demo'"
   ]
  },
  {
   "cell_type": "code",
   "execution_count": 9,
   "metadata": {},
   "outputs": [
    {
     "name": "stdout",
     "output_type": "stream",
     "text": [
      "warning: load: 'C:\\Users\\PLarson\\Documents\\GitHub\\hyperpolarized-mri-toolbox\\recon\\EPI demo\\brain_data_demo.mat' found by searching load path\n",
      "X =  16\n",
      "Y =  16\n",
      "numCoils =  32\n",
      "numSlices =  8\n",
      "ans =\n",
      "\n",
      "   16   16    8   32    1    3   20\n",
      "\n"
     ]
    }
   ],
   "source": [
    "%% Load the EPI data\n",
    "close all, clear all, clc\n",
    "load brain_data_demo\n",
    "\n",
    "X = size(chim,1)\n",
    "Y = size(chim,2)\n",
    "numCoils = size(chim,3)\n",
    "numSlices = size(chim,4)\n",
    "numFreqs = 3; %[Pyruvate, Lactate, Bicarbonate]\n",
    "numFrames = 20;\n",
    "chim = reshape(chim,[X Y numCoils numSlices numFreqs numFrames]);\n",
    "chim = permute(chim,[1 2 4 3 7 5 6]);\n",
    "size(chim)\n"
   ]
  },
  {
   "cell_type": "code",
   "execution_count": 10,
   "metadata": {},
   "outputs": [
    {
     "data": {
      "image/png": "[encoded data removed]",
      "text/plain": [
       "<IPython.core.display.Image object>"
      ]
     },
     "metadata": {},
     "output_type": "display_data"
    }
   ],
   "source": [
    "% pyruvate image slice 4, channel 12, time point 3\n",
    "\n",
    "imagesc(abs(chim(:,:,4,12,1,1,3))), axis square"
   ]
  },
  {
   "cell_type": "code",
   "execution_count": 11,
   "metadata": {},
   "outputs": [
    {
     "data": {
      "image/png": "[encoded data removed]",
      "text/plain": [
       "<IPython.core.display.Image object>"
      ]
     },
     "metadata": {},
     "output_type": "display_data"
    }
   ],
   "source": [
    "%% Pre-whiten the data\n",
    "%Ensure you use noise-only data for pre-whitening\n",
    "noise_data = chim(:,:,1,:,1,1,20);\n",
    "[chim, ncm] = prewhitening_cc(chim, noise_data);\n",
    "\n",
    "%Note that Ch. 23 is 'hot' relative to the other 31 elements\n",
    "figure,imagesc(abs(ncm)); axis image off;\n"
   ]
  },
  {
   "cell_type": "code",
   "execution_count": 12,
   "metadata": {},
   "outputs": [],
   "source": [
    "%% Reconstruct using the 'refpeak' method and sum-of-squares\n",
    "im_refpeak = RefPeak_cc(chim);\n",
    "im_sos = Sum_of_Square_cc(chim);\n",
    "\n",
    "im_refpeak = squeeze(im_refpeak);\n",
    "im_sos = squeeze(im_sos);\n"
   ]
  },
  {
   "cell_type": "code",
   "execution_count": 19,
   "metadata": {},
   "outputs": [
    {
     "name": "stdout",
     "output_type": "stream",
     "text": [
      "warning: load_path: C:\\Users\\PLarson\\Documents\\GitHub\\hyperpolarized-mri-toolbox\\recon\\prostate demo: No such file or directory\n",
      "warning: load-path: update failed for 'C:\\Users\\PLarson\\Documents\\GitHub\\hyperpolarized-mri-toolbox\\recon\\prostate demo', removing from path\n",
      "warning: load_path: C:\\Users\\PLarson\\Documents\\GitHub\\hyperpolarized-mri-toolbox\\recon\\prostate demo\\dummy_ddf: No such file or directory\n",
      "warning: load-path: update failed for 'C:\\Users\\PLarson\\Documents\\GitHub\\hyperpolarized-mri-toolbox\\recon\\prostate demo\\dummy_ddf', removing from path\n",
      "warning: load_path: C:\\Users\\PLarson\\Documents\\GitHub\\hyperpolarized-mri-toolbox\\recon\\prostate demo: No such file or directory\n",
      "warning: load-path: update failed for 'C:\\Users\\PLarson\\Documents\\GitHub\\hyperpolarized-mri-toolbox\\recon\\prostate demo', removing from path\n",
      "warning: load_path: C:\\Users\\PLarson\\Documents\\GitHub\\hyperpolarized-mri-toolbox\\recon\\prostate demo\\dummy_ddf: No such file or directory\n",
      "warning: load-path: update failed for 'C:\\Users\\PLarson\\Documents\\GitHub\\hyperpolarized-mri-toolbox\\recon\\prostate demo\\dummy_ddf', removing from path\n",
      "error: print: directory C:\\Users\\PLarson\\AppData\\Local\\Temp\\1\\tmpjno8iweo does not exist\n",
      "error: called from\n",
      "    _make_figures>safe_print at line 125 column 7\n",
      "    _make_figures at line 49 column 13\n",
      "warning: load_path: C:\\Users\\PLarson\\Documents\\GitHub\\hyperpolarized-mri-toolbox\\recon\\prostate demo: No such file or directory\n",
      "warning: load-path: update failed for 'C:\\Users\\PLarson\\Documents\\GitHub\\hyperpolarized-mri-toolbox\\recon\\prostate demo', removing from path\n",
      "warning: load_path: C:\\Users\\PLarson\\Documents\\GitHub\\hyperpolarized-mri-toolbox\\recon\\prostate demo\\dummy_ddf: No such file or directory\n",
      "warning: load-path: update failed for 'C:\\Users\\PLarson\\Documents\\GitHub\\hyperpolarized-mri-toolbox\\recon\\prostate demo\\dummy_ddf', removing from path\n",
      "warning: load_path: C:\\Users\\PLarson\\Documents\\GitHub\\hyperpolarized-mri-toolbox\\recon\\prostate demo: No such file or directory\n",
      "warning: load-path: update failed for 'C:\\Users\\PLarson\\Documents\\GitHub\\hyperpolarized-mri-toolbox\\recon\\prostate demo', removing from path\n",
      "warning: load_path: C:\\Users\\PLarson\\Documents\\GitHub\\hyperpolarized-mri-toolbox\\recon\\prostate demo\\dummy_ddf: No such file or directory\n",
      "warning: load-path: update failed for 'C:\\Users\\PLarson\\Documents\\GitHub\\hyperpolarized-mri-toolbox\\recon\\prostate demo\\dummy_ddf', removing from path\n",
      "warning: load_path: C:\\Users\\PLarson\\Documents\\GitHub\\hyperpolarized-mri-toolbox\\recon\\prostate demo: No such file or directory\n",
      "warning: load-path: update failed for 'C:\\Users\\PLarson\\Documents\\GitHub\\hyperpolarized-mri-toolbox\\recon\\prostate demo', removing from path\n",
      "warning: load_path: C:\\Users\\PLarson\\Documents\\GitHub\\hyperpolarized-mri-toolbox\\recon\\prostate demo\\dummy_ddf: No such file or directory\n",
      "warning: load-path: update failed for 'C:\\Users\\PLarson\\Documents\\GitHub\\hyperpolarized-mri-toolbox\\recon\\prostate demo\\dummy_ddf', removing from path\n",
      "warning: load_path: C:\\Users\\PLarson\\Documents\\GitHub\\hyperpolarized-mri-toolbox\\recon\\prostate demo: No such file or directory\n",
      "warning: load-path: update failed for 'C:\\Users\\PLarson\\Documents\\GitHub\\hyperpolarized-mri-toolbox\\recon\\prostate demo', removing from path\n",
      "warning: load_path: C:\\Users\\PLarson\\Documents\\GitHub\\hyperpolarized-mri-toolbox\\recon\\prostate demo\\dummy_ddf: No such file or directory\n",
      "warning: load-path: update failed for 'C:\\Users\\PLarson\\Documents\\GitHub\\hyperpolarized-mri-toolbox\\recon\\prostate demo\\dummy_ddf', removing from path\n",
      "warning: load_path: C:\\Users\\PLarson\\Documents\\GitHub\\hyperpolarized-mri-toolbox\\recon\\prostate demo: No such file or directory\n",
      "warning: load-path: update failed for 'C:\\Users\\PLarson\\Documents\\GitHub\\hyperpolarized-mri-toolbox\\recon\\prostate demo', removing from path\n",
      "warning: load_path: C:\\Users\\PLarson\\Documents\\GitHub\\hyperpolarized-mri-toolbox\\recon\\prostate demo\\dummy_ddf: No such file or directory\n",
      "warning: load-path: update failed for 'C:\\Users\\PLarson\\Documents\\GitHub\\hyperpolarized-mri-toolbox\\recon\\prostate demo\\dummy_ddf', removing from path\n",
      "warning: load_path: C:\\Users\\PLarson\\Documents\\GitHub\\hyperpolarized-mri-toolbox\\recon\\prostate demo: No such file or directory\n",
      "warning: load-path: update failed for 'C:\\Users\\PLarson\\Documents\\GitHub\\hyperpolarized-mri-toolbox\\recon\\prostate demo', removing from path\n",
      "warning: load_path: C:\\Users\\PLarson\\Documents\\GitHub\\hyperpolarized-mri-toolbox\\recon\\prostate demo\\dummy_ddf: No such file or directory\n",
      "warning: load-path: update failed for 'C:\\Users\\PLarson\\Documents\\GitHub\\hyperpolarized-mri-toolbox\\recon\\prostate demo\\dummy_ddf', removing from path\n",
      "warning: load_path: C:\\Users\\PLarson\\Documents\\GitHub\\hyperpolarized-mri-toolbox\\recon\\prostate demo: No such file or directory\n",
      "warning: load-path: update failed for 'C:\\Users\\PLarson\\Documents\\GitHub\\hyperpolarized-mri-toolbox\\recon\\prostate demo', removing from path\n",
      "warning: load_path: C:\\Users\\PLarson\\Documents\\GitHub\\hyperpolarized-mri-toolbox\\recon\\prostate demo\\dummy_ddf: No such file or directory\n",
      "warning: load-path: update failed for 'C:\\Users\\PLarson\\Documents\\GitHub\\hyperpolarized-mri-toolbox\\recon\\prostate demo\\dummy_ddf', removing from path\n",
      "warning: load_path: C:\\Users\\PLarson\\Documents\\GitHub\\hyperpolarized-mri-toolbox\\recon\\prostate demo: No such file or directory\n",
      "warning: load-path: update failed for 'C:\\Users\\PLarson\\Documents\\GitHub\\hyperpolarized-mri-toolbox\\recon\\prostate demo', removing from path\n",
      "warning: load_path: C:\\Users\\PLarson\\Documents\\GitHub\\hyperpolarized-mri-toolbox\\recon\\prostate demo\\dummy_ddf: No such file or directory\n",
      "warning: load-path: update failed for 'C:\\Users\\PLarson\\Documents\\GitHub\\hyperpolarized-mri-toolbox\\recon\\prostate demo\\dummy_ddf', removing from path\n",
      "warning: load_path: C:\\Users\\PLarson\\Documents\\GitHub\\hyperpolarized-mri-toolbox\\recon\\prostate demo: No such file or directory\n",
      "warning: load-path: update failed for 'C:\\Users\\PLarson\\Documents\\GitHub\\hyperpolarized-mri-toolbox\\recon\\prostate demo', removing from path\n",
      "warning: load_path: C:\\Users\\PLarson\\Documents\\GitHub\\hyperpolarized-mri-toolbox\\recon\\prostate demo\\dummy_ddf: No such file or directory\n",
      "warning: load-path: update failed for 'C:\\Users\\PLarson\\Documents\\GitHub\\hyperpolarized-mri-toolbox\\recon\\prostate demo\\dummy_ddf', removing from path\n",
      "warning: load_path: C:\\Users\\PLarson\\Documents\\GitHub\\hyperpolarized-mri-toolbox\\recon\\prostate demo: No such file or directory\n",
      "warning: load-path: update failed for 'C:\\Users\\PLarson\\Documents\\GitHub\\hyperpolarized-mri-toolbox\\recon\\prostate demo', removing from path\n",
      "warning: load_path: C:\\Users\\PLarson\\Documents\\GitHub\\hyperpolarized-mri-toolbox\\recon\\prostate demo\\dummy_ddf: No such file or directory\n",
      "warning: load-path: update failed for 'C:\\Users\\PLarson\\Documents\\GitHub\\hyperpolarized-mri-toolbox\\recon\\prostate demo\\dummy_ddf', removing from path\n"
     ]
    }
   ],
   "source": [
    "%% Compare area under the curve (AUC) for the two reconstructions\n",
    "\n",
    "%Subtle difference for high SNR metabolites (pyruvate)\n",
    "figure;\n",
    "pyr_sos = abs(squeeze(sum(im_sos(:,:,:,1,:),5)));\n",
    "clim = [0.05 0.8].*max(pyr_sos(:));\n",
    "subplot(121),montage(permute(pyr_sos,[1 2 4 3]),'DisplayRange',clim,'Size',[3 3])\n",
    "title('SoS Pyruvate')\n",
    "\n",
    "pyr_ref = abs(squeeze(sum(im_refpeak(:,:,:,1,:),5)));\n",
    "clim = [0.05 0.8].*max(pyr_ref(:));\n",
    "subplot(122),montage(permute(pyr_ref,[1 2 4 3]),'DisplayRange',clim,'Size',[3 3])\n",
    "title('Refpeak Pyruvate')\n",
    "%set(gcf,'units','normalized','outerposition',[0.2 0.2 0.6 0.5])\n",
    "\n",
    "\n"
   ]
  },
  {
   "cell_type": "code",
   "execution_count": 14,
   "metadata": {},
   "outputs": [
    {
     "data": {
      "image/png": "[encoded data removed]",
      "text/plain": [
       "<IPython.core.display.Image object>"
      ]
     },
     "metadata": {},
     "output_type": "display_data"
    }
   ],
   "source": [
    "%More difference for medium SNR metabolites (lactate)\n",
    "figure;\n",
    "lac_sos = abs(squeeze(sum(im_sos(:,:,:,2,:),5)));\n",
    "clim = [0.05 1].*max(lac_sos(:));\n",
    "subplot(121),montage(permute(lac_sos,[1 2 4 3]),'DisplayRange',clim,'Size',[3 3])\n",
    "title('SoS Lactate')\n",
    "\n",
    "lac_ref = abs(squeeze(sum(im_refpeak(:,:,:,2,:),5)));\n",
    "clim = [0.05 1].*max(lac_ref(:));\n",
    "subplot(122),montage(permute(lac_ref,[1 2 4 3]),'DisplayRange',clim,'Size',[3 3])\n",
    "title('Refpeak Lactate')\n",
    "%set(gcf,'units','normalized','outerposition',[0.2 0.2 0.6 0.5])\n",
    "\n"
   ]
  },
  {
   "cell_type": "code",
   "execution_count": 15,
   "metadata": {},
   "outputs": [
    {
     "data": {
      "image/png": "[encoded data removed]",
      "text/plain": [
       "<IPython.core.display.Image object>"
      ]
     },
     "metadata": {},
     "output_type": "display_data"
    }
   ],
   "source": [
    "%Largest difference for noisiest metabolites (bicarbonate)\n",
    "figure;\n",
    "bic_sos = abs(squeeze(sum(im_sos(:,:,:,2,:),5)));\n",
    "clim = [0.01 1].*max(bic_sos(:));\n",
    "subplot(121),montage(permute(bic_sos,[1 2 4 3]),'DisplayRange',clim,'Size',[3 3])\n",
    "title('SoS Bicarbonate')\n",
    "\n",
    "bic_ref = abs(squeeze(sum(im_refpeak(:,:,:,2,:),5)));\n",
    "clim = [0.01 1].*max(bic_ref(:));\n",
    "subplot(122),montage(permute(bic_ref,[1 2 4 3]),'DisplayRange',clim,'Size',[3 3])\n",
    "title('Refpeak Bicarbonate')\n",
    "%set(gcf,'units','normalized','outerposition',[0.2 0.2 0.6 0.5])"
   ]
  },
  {
   "cell_type": "code",
   "execution_count": null,
   "metadata": {},
   "outputs": [
    {
     "name": "stdout",
     "output_type": "stream",
     "text": [
      "warning: load_path: C:\\Users\\PLarson\\Documents\\GitHub\\hyperpolarized-mri-toolbox\\recon\\prostate demo: No such file or directory\n",
      "warning: load-path: update failed for 'C:\\Users\\PLarson\\Documents\\GitHub\\hyperpolarized-mri-toolbox\\recon\\prostate demo', removing from path\n",
      "warning: load_path: C:\\Users\\PLarson\\Documents\\GitHub\\hyperpolarized-mri-toolbox\\recon\\prostate demo\\dummy_ddf: No such file or directory\n",
      "warning: load-path: update failed for 'C:\\Users\\PLarson\\Documents\\GitHub\\hyperpolarized-mri-toolbox\\recon\\prostate demo\\dummy_ddf', removing from path\n",
      "warning: load_path: C:\\Users\\PLarson\\Documents\\GitHub\\hyperpolarized-mri-toolbox\\recon\\prostate demo: No such file or directory\n",
      "warning: load-path: update failed for 'C:\\Users\\PLarson\\Documents\\GitHub\\hyperpolarized-mri-toolbox\\recon\\prostate demo', removing from path\n",
      "warning: load_path: C:\\Users\\PLarson\\Documents\\GitHub\\hyperpolarized-mri-toolbox\\recon\\prostate demo\\dummy_ddf: No such file or directory\n",
      "warning: load-path: update failed for 'C:\\Users\\PLarson\\Documents\\GitHub\\hyperpolarized-mri-toolbox\\recon\\prostate demo\\dummy_ddf', removing from path\n",
      "warning: load_path: C:\\Users\\PLarson\\Documents\\GitHub\\hyperpolarized-mri-toolbox\\recon\\prostate demo: No such file or directory\n",
      "warning: load-path: update failed for 'C:\\Users\\PLarson\\Documents\\GitHub\\hyperpolarized-mri-toolbox\\recon\\prostate demo', removing from path\n",
      "warning: load_path: C:\\Users\\PLarson\\Documents\\GitHub\\hyperpolarized-mri-toolbox\\recon\\prostate demo\\dummy_ddf: No such file or directory\n",
      "warning: load-path: update failed for 'C:\\Users\\PLarson\\Documents\\GitHub\\hyperpolarized-mri-toolbox\\recon\\prostate demo\\dummy_ddf', removing from path\n",
      "warning: load_path: C:\\Users\\PLarson\\Documents\\GitHub\\hyperpolarized-mri-toolbox\\recon\\prostate demo: No such file or directory\n",
      "warning: load-path: update failed for 'C:\\Users\\PLarson\\Documents\\GitHub\\hyperpolarized-mri-toolbox\\recon\\prostate demo', removing from path\n",
      "warning: load_path: C:\\Users\\PLarson\\Documents\\GitHub\\hyperpolarized-mri-toolbox\\recon\\prostate demo\\dummy_ddf: No such file or directory\n",
      "warning: load-path: update failed for 'C:\\Users\\PLarson\\Documents\\GitHub\\hyperpolarized-mri-toolbox\\recon\\prostate demo\\dummy_ddf', removing from path\n",
      "warning: load_path: C:\\Users\\PLarson\\Documents\\GitHub\\hyperpolarized-mri-toolbox\\recon\\prostate demo: No such file or directory\n",
      "warning: load-path: update failed for 'C:\\Users\\PLarson\\Documents\\GitHub\\hyperpolarized-mri-toolbox\\recon\\prostate demo', removing from path\n",
      "warning: load_path: C:\\Users\\PLarson\\Documents\\GitHub\\hyperpolarized-mri-toolbox\\recon\\prostate demo\\dummy_ddf: No such file or directory\n",
      "warning: load-path: update failed for 'C:\\Users\\PLarson\\Documents\\GitHub\\hyperpolarized-mri-toolbox\\recon\\prostate demo\\dummy_ddf', removing from path\n",
      "warning: load_path: C:\\Users\\PLarson\\Documents\\GitHub\\hyperpolarized-mri-toolbox\\recon\\prostate demo: No such file or directory\n",
      "warning: load-path: update failed for 'C:\\Users\\PLarson\\Documents\\GitHub\\hyperpolarized-mri-toolbox\\recon\\prostate demo', removing from path\n",
      "warning: load_path: C:\\Users\\PLarson\\Documents\\GitHub\\hyperpolarized-mri-toolbox\\recon\\prostate demo\\dummy_ddf: No such file or directory\n",
      "warning: load-path: update failed for 'C:\\Users\\PLarson\\Documents\\GitHub\\hyperpolarized-mri-toolbox\\recon\\prostate demo\\dummy_ddf', removing from path\n",
      "warning: load_path: C:\\Users\\PLarson\\Documents\\GitHub\\hyperpolarized-mri-toolbox\\recon\\prostate demo: No such file or directory\n",
      "warning: load-path: update failed for 'C:\\Users\\PLarson\\Documents\\GitHub\\hyperpolarized-mri-toolbox\\recon\\prostate demo', removing from path\n",
      "warning: load_path: C:\\Users\\PLarson\\Documents\\GitHub\\hyperpolarized-mri-toolbox\\recon\\prostate demo\\dummy_ddf: No such file or directory\n",
      "warning: load-path: update failed for 'C:\\Users\\PLarson\\Documents\\GitHub\\hyperpolarized-mri-toolbox\\recon\\prostate demo\\dummy_ddf', removing from path\n",
      "warning: load_path: C:\\Users\\PLarson\\Documents\\GitHub\\hyperpolarized-mri-toolbox\\recon\\prostate demo: No such file or directory\n",
      "warning: load-path: update failed for 'C:\\Users\\PLarson\\Documents\\GitHub\\hyperpolarized-mri-toolbox\\recon\\prostate demo', removing from path\n",
      "warning: load_path: C:\\Users\\PLarson\\Documents\\GitHub\\hyperpolarized-mri-toolbox\\recon\\prostate demo\\dummy_ddf: No such file or directory\n",
      "warning: load-path: update failed for 'C:\\Users\\PLarson\\Documents\\GitHub\\hyperpolarized-mri-toolbox\\recon\\prostate demo\\dummy_ddf', removing from path\n",
      "warning: load_path: C:\\Users\\PLarson\\Documents\\GitHub\\hyperpolarized-mri-toolbox\\recon\\prostate demo: No such file or directory\n",
      "warning: load-path: update failed for 'C:\\Users\\PLarson\\Documents\\GitHub\\hyperpolarized-mri-toolbox\\recon\\prostate demo', removing from path\n",
      "warning: load_path: C:\\Users\\PLarson\\Documents\\GitHub\\hyperpolarized-mri-toolbox\\recon\\prostate demo\\dummy_ddf: No such file or directory\n",
      "warning: load-path: update failed for 'C:\\Users\\PLarson\\Documents\\GitHub\\hyperpolarized-mri-toolbox\\recon\\prostate demo\\dummy_ddf', removing from path\n",
      "warning: load_path: C:\\Users\\PLarson\\Documents\\GitHub\\hyperpolarized-mri-toolbox\\recon\\prostate demo: No such file or directory\n",
      "warning: load-path: update failed for 'C:\\Users\\PLarson\\Documents\\GitHub\\hyperpolarized-mri-toolbox\\recon\\prostate demo', removing from path\n",
      "warning: load_path: C:\\Users\\PLarson\\Documents\\GitHub\\hyperpolarized-mri-toolbox\\recon\\prostate demo\\dummy_ddf: No such file or directory\n",
      "warning: load-path: update failed for 'C:\\Users\\PLarson\\Documents\\GitHub\\hyperpolarized-mri-toolbox\\recon\\prostate demo\\dummy_ddf', removing from path\n",
      "warning: load_path: C:\\Users\\PLarson\\Documents\\GitHub\\hyperpolarized-mri-toolbox\\recon\\prostate demo: No such file or directory\n",
      "warning: load-path: update failed for 'C:\\Users\\PLarson\\Documents\\GitHub\\hyperpolarized-mri-toolbox\\recon\\prostate demo', removing from path\n",
      "warning: load_path: C:\\Users\\PLarson\\Documents\\GitHub\\hyperpolarized-mri-toolbox\\recon\\prostate demo\\dummy_ddf: No such file or directory\n",
      "warning: load-path: update failed for 'C:\\Users\\PLarson\\Documents\\GitHub\\hyperpolarized-mri-toolbox\\recon\\prostate demo\\dummy_ddf', removing from path\n",
      "warning: load_path: C:\\Users\\PLarson\\Documents\\GitHub\\hyperpolarized-mri-toolbox\\recon\\prostate demo: No such file or directory\n",
      "warning: load-path: update failed for 'C:\\Users\\PLarson\\Documents\\GitHub\\hyperpolarized-mri-toolbox\\recon\\prostate demo', removing from path\n",
      "warning: load_path: C:\\Users\\PLarson\\Documents\\GitHub\\hyperpolarized-mri-toolbox\\recon\\prostate demo\\dummy_ddf: No such file or directory\n",
      "warning: load-path: update failed for 'C:\\Users\\PLarson\\Documents\\GitHub\\hyperpolarized-mri-toolbox\\recon\\prostate demo\\dummy_ddf', removing from path\n",
      "warning: load_path: C:\\Users\\PLarson\\Documents\\GitHub\\hyperpolarized-mri-toolbox\\recon\\prostate demo: No such file or directory\n",
      "warning: load-path: update failed for 'C:\\Users\\PLarson\\Documents\\GitHub\\hyperpolarized-mri-toolbox\\recon\\prostate demo', removing from path\n",
      "warning: load_path: C:\\Users\\PLarson\\Documents\\GitHub\\hyperpolarized-mri-toolbox\\recon\\prostate demo\\dummy_ddf: No such file or directory\n",
      "warning: load-path: update failed for 'C:\\Users\\PLarson\\Documents\\GitHub\\hyperpolarized-mri-toolbox\\recon\\prostate demo\\dummy_ddf', removing from path\n",
      "warning: load_path: C:\\Users\\PLarson\\Documents\\GitHub\\hyperpolarized-mri-toolbox\\recon\\prostate demo: No such file or directory\n",
      "warning: load-path: update failed for 'C:\\Users\\PLarson\\Documents\\GitHub\\hyperpolarized-mri-toolbox\\recon\\prostate demo', removing from path\n",
      "warning: load_path: C:\\Users\\PLarson\\Documents\\GitHub\\hyperpolarized-mri-toolbox\\recon\\prostate demo\\dummy_ddf: No such file or directory\n",
      "warning: load-path: update failed for 'C:\\Users\\PLarson\\Documents\\GitHub\\hyperpolarized-mri-toolbox\\recon\\prostate demo\\dummy_ddf', removing from path\n",
      "warning: load_path: C:\\Users\\PLarson\\Documents\\GitHub\\hyperpolarized-mri-toolbox\\recon\\prostate demo: No such file or directory\n",
      "warning: load-path: update failed for 'C:\\Users\\PLarson\\Documents\\GitHub\\hyperpolarized-mri-toolbox\\recon\\prostate demo', removing from path\n",
      "warning: load_path: C:\\Users\\PLarson\\Documents\\GitHub\\hyperpolarized-mri-toolbox\\recon\\prostate demo\\dummy_ddf: No such file or directory\n",
      "warning: load-path: update failed for 'C:\\Users\\PLarson\\Documents\\GitHub\\hyperpolarized-mri-toolbox\\recon\\prostate demo\\dummy_ddf', removing from path\n"
     ]
    },
    {
     "name": "stdout",
     "output_type": "stream",
     "text": [
      "warning: load_path: C:\\Users\\PLarson\\Documents\\GitHub\\hyperpolarized-mri-toolbox\\recon\\prostate demo: No such file or directory\n",
      "warning: load-path: update failed for 'C:\\Users\\PLarson\\Documents\\GitHub\\hyperpolarized-mri-toolbox\\recon\\prostate demo', removing from path\n",
      "warning: load_path: C:\\Users\\PLarson\\Documents\\GitHub\\hyperpolarized-mri-toolbox\\recon\\prostate demo\\dummy_ddf: No such file or directory\n",
      "warning: load-path: update failed for 'C:\\Users\\PLarson\\Documents\\GitHub\\hyperpolarized-mri-toolbox\\recon\\prostate demo\\dummy_ddf', removing from path\n",
      "warning: load_path: C:\\Users\\PLarson\\Documents\\GitHub\\hyperpolarized-mri-toolbox\\recon\\prostate demo: No such file or directory\n",
      "warning: load-path: update failed for 'C:\\Users\\PLarson\\Documents\\GitHub\\hyperpolarized-mri-toolbox\\recon\\prostate demo', removing from path\n",
      "warning: load_path: C:\\Users\\PLarson\\Documents\\GitHub\\hyperpolarized-mri-toolbox\\recon\\prostate demo\\dummy_ddf: No such file or directory\n",
      "warning: load-path: update failed for 'C:\\Users\\PLarson\\Documents\\GitHub\\hyperpolarized-mri-toolbox\\recon\\prostate demo\\dummy_ddf', removing from path\n",
      "warning: load_path: C:\\Users\\PLarson\\Documents\\GitHub\\hyperpolarized-mri-toolbox\\recon\\prostate demo: No such file or directory\n",
      "warning: load-path: update failed for 'C:\\Users\\PLarson\\Documents\\GitHub\\hyperpolarized-mri-toolbox\\recon\\prostate demo', removing from path\n",
      "warning: load_path: C:\\Users\\PLarson\\Documents\\GitHub\\hyperpolarized-mri-toolbox\\recon\\prostate demo\\dummy_ddf: No such file or directory\n",
      "warning: load-path: update failed for 'C:\\Users\\PLarson\\Documents\\GitHub\\hyperpolarized-mri-toolbox\\recon\\prostate demo\\dummy_ddf', removing from path\n",
      "warning: load_path: C:\\Users\\PLarson\\Documents\\GitHub\\hyperpolarized-mri-toolbox\\recon\\prostate demo: No such file or directory\n",
      "warning: load-path: update failed for 'C:\\Users\\PLarson\\Documents\\GitHub\\hyperpolarized-mri-toolbox\\recon\\prostate demo', removing from path\n",
      "warning: load_path: C:\\Users\\PLarson\\Documents\\GitHub\\hyperpolarized-mri-toolbox\\recon\\prostate demo\\dummy_ddf: No such file or directory\n",
      "warning: load-path: update failed for 'C:\\Users\\PLarson\\Documents\\GitHub\\hyperpolarized-mri-toolbox\\recon\\prostate demo\\dummy_ddf', removing from path\n",
      "warning: load_path: C:\\Users\\PLarson\\Documents\\GitHub\\hyperpolarized-mri-toolbox\\recon\\prostate demo: No such file or directory\n",
      "warning: load-path: update failed for 'C:\\Users\\PLarson\\Documents\\GitHub\\hyperpolarized-mri-toolbox\\recon\\prostate demo', removing from path\n",
      "warning: load_path: C:\\Users\\PLarson\\Documents\\GitHub\\hyperpolarized-mri-toolbox\\recon\\prostate demo\\dummy_ddf: No such file or directory\n",
      "warning: load-path: update failed for 'C:\\Users\\PLarson\\Documents\\GitHub\\hyperpolarized-mri-toolbox\\recon\\prostate demo\\dummy_ddf', removing from path\n",
      "warning: load_path: C:\\Users\\PLarson\\Documents\\GitHub\\hyperpolarized-mri-toolbox\\recon\\prostate demo: No such file or directory\n",
      "warning: load-path: update failed for 'C:\\Users\\PLarson\\Documents\\GitHub\\hyperpolarized-mri-toolbox\\recon\\prostate demo', removing from path\n",
      "warning: load_path: C:\\Users\\PLarson\\Documents\\GitHub\\hyperpolarized-mri-toolbox\\recon\\prostate demo\\dummy_ddf: No such file or directory\n",
      "warning: load-path: update failed for 'C:\\Users\\PLarson\\Documents\\GitHub\\hyperpolarized-mri-toolbox\\recon\\prostate demo\\dummy_ddf', removing from path\n",
      "warning: load_path: C:\\Users\\PLarson\\Documents\\GitHub\\hyperpolarized-mri-toolbox\\recon\\prostate demo: No such file or directory\n",
      "warning: load-path: update failed for 'C:\\Users\\PLarson\\Documents\\GitHub\\hyperpolarized-mri-toolbox\\recon\\prostate demo', removing from path\n",
      "warning: load_path: C:\\Users\\PLarson\\Documents\\GitHub\\hyperpolarized-mri-toolbox\\recon\\prostate demo\\dummy_ddf: No such file or directory\n",
      "warning: load-path: update failed for 'C:\\Users\\PLarson\\Documents\\GitHub\\hyperpolarized-mri-toolbox\\recon\\prostate demo\\dummy_ddf', removing from path\n",
      "warning: load_path: C:\\Users\\PLarson\\Documents\\GitHub\\hyperpolarized-mri-toolbox\\recon\\prostate demo: No such file or directory\n",
      "warning: load-path: update failed for 'C:\\Users\\PLarson\\Documents\\GitHub\\hyperpolarized-mri-toolbox\\recon\\prostate demo', removing from path\n",
      "warning: load_path: C:\\Users\\PLarson\\Documents\\GitHub\\hyperpolarized-mri-toolbox\\recon\\prostate demo\\dummy_ddf: No such file or directory\n",
      "warning: load-path: update failed for 'C:\\Users\\PLarson\\Documents\\GitHub\\hyperpolarized-mri-toolbox\\recon\\prostate demo\\dummy_ddf', removing from path\n",
      "** Warning: Cannot interrupt Octave on Windows\n"
     ]
    }
   ],
   "source": [
    "%% Use the 'refpeak' combined data to estimate kPL, AUC ratio, and mean arrival time\n",
    "\n",
    "%Data were acquired with a variable flip angle across metabolites, constant\n",
    "%through time.\n",
    "flips = [20 30 30].* pi./180;\n",
    "flips = repmat(flips,[numFrames 1]);\n",
    "TR = 3; %temporal resolution (s)\n",
    "\n",
    "%Threshold based on pyruvate AUC\n",
    "mask = zeros(X,Y,numSlices);\n",
    "thresh = 0.05;\n",
    "mask(pyr_ref > thresh.*max(pyr_ref(:))) = 1;\n",
    "\n",
    "%Intialize fit parameters\n",
    "clear params_fixed params_est params_fit\n",
    "R1P_est = 1/30; R1L_est = 1/25;  kPL_est = 0.02;\n",
    "R1B_est = 1/30; kPB_est = 0.005;\n",
    "params_fixed.R1P = R1P_est; params_fixed.R1L = R1L_est;\n",
    "params_est.kPL = kPL_est; params_est.kPB = kPB_est; \n",
    "params_est.R1B = R1B_est;\n",
    "\n",
    "mean_time_map = zeros(X,Y,numSlices,numFreqs);\n",
    "kpl = zeros(X,Y,numSlices);\n",
    "kpb = zeros(X,Y,numSlices);\n",
    "lp_ratio = zeros(X,Y,numSlices);\n",
    "bp_ratio = zeros(X,Y,numSlices);\n",
    "for ii = 1:X\n",
    "    for jj = 1:Y\n",
    "        for kk = 1:numSlices\n",
    "            %To minimize runtime, only fit if SNR is adequate\n",
    "            if mask(ii,jj,kk)\n",
    "                %Fit kPL and kPB\n",
    "                params_fit = fit_pyr_kinetics(abs(squeeze(im_refpeak(ii,jj,kk,:,:))),TR,flips',params_fixed,params_est);\n",
    "                kpl(ii,jj,kk) = params_fit.kPL;\n",
    "                kpb(ii,jj,kk) = params_fit.kPB;\n",
    "                \n",
    "                %Estimate mean arrival time of pyruvate, lactate, and bicarb\n",
    "                mean_time_map(ii,jj,kk,1) = compute_mean_time(abs(squeeze(im_refpeak(ii,jj,kk,1,:)))',TR);\n",
    "                mean_time_map(ii,jj,kk,2) = compute_mean_time(abs(squeeze(im_refpeak(ii,jj,kk,2,:)))',TR);\n",
    "                mean_time_map(ii,jj,kk,3) = compute_mean_time(abs(squeeze(im_refpeak(ii,jj,kk,3,:)))',TR);\n",
    "                \n",
    "                %Estimate AUC ratio\n",
    "                lp_ratio(ii,jj,kk) = compute_AUCratio(abs(squeeze(im_refpeak(ii,jj,kk,[1 2],:))));\n",
    "                bp_ratio(ii,jj,kk) = compute_AUCratio(abs(squeeze(im_refpeak(ii,jj,kk,[1 3],:))));\n",
    "            end\n",
    "        end\n",
    "    end\n",
    "end\n"
   ]
  },
  {
   "cell_type": "code",
   "execution_count": 17,
   "metadata": {},
   "outputs": [
    {
     "name": "stdout",
     "output_type": "stream",
     "text": [
      "warning: load_path: C:\\Users\\PLarson\\Documents\\GitHub\\hyperpolarized-mri-toolbox\\recon\\prostate demo: No such file or directory\n",
      "warning: load-path: update failed for 'C:\\Users\\PLarson\\Documents\\GitHub\\hyperpolarized-mri-toolbox\\recon\\prostate demo', removing from path\n",
      "warning: load_path: C:\\Users\\PLarson\\Documents\\GitHub\\hyperpolarized-mri-toolbox\\recon\\prostate demo\\dummy_ddf: No such file or directory\n",
      "warning: load-path: update failed for 'C:\\Users\\PLarson\\Documents\\GitHub\\hyperpolarized-mri-toolbox\\recon\\prostate demo\\dummy_ddf', removing from path\n",
      "warning: load_path: C:\\Users\\PLarson\\Documents\\GitHub\\hyperpolarized-mri-toolbox\\recon\\prostate demo: No such file or directory\n",
      "warning: load-path: update failed for 'C:\\Users\\PLarson\\Documents\\GitHub\\hyperpolarized-mri-toolbox\\recon\\prostate demo', removing from path\n",
      "warning: load_path: C:\\Users\\PLarson\\Documents\\GitHub\\hyperpolarized-mri-toolbox\\recon\\prostate demo\\dummy_ddf: No such file or directory\n",
      "warning: load-path: update failed for 'C:\\Users\\PLarson\\Documents\\GitHub\\hyperpolarized-mri-toolbox\\recon\\prostate demo\\dummy_ddf', removing from path\n",
      "cfda95465f3a4b218cc75f8f08a283e8\n",
      "warning: load_path: C:\\Users\\PLarson\\Documents\\GitHub\\hyperpolarized-mri-toolbox\\recon\\prostate demo: No such file or directory\n",
      "warning: load-path: update failed for 'C:\\Users\\PLarson\\Documents\\GitHub\\hyperpolarized-mri-toolbox\\recon\\prostate demo', removing from path\n",
      "warning: load_path: C:\\Users\\PLarson\\Documents\\GitHub\\hyperpolarized-mri-toolbox\\recon\\prostate demo\\dummy_ddf: No such file or directory\n",
      "warning: load-path: update failed for 'C:\\Users\\PLarson\\Documents\\GitHub\\hyperpolarized-mri-toolbox\\recon\\prostate demo\\dummy_ddf', removing from path\n",
      "warning: load_path: C:\\Users\\PLarson\\Documents\\GitHub\\hyperpolarized-mri-toolbox\\recon\\prostate demo: No such file or directory\n",
      "warning: load-path: update failed for 'C:\\Users\\PLarson\\Documents\\GitHub\\hyperpolarized-mri-toolbox\\recon\\prostate demo', removing from path\n",
      "warning: load_path: C:\\Users\\PLarson\\Documents\\GitHub\\hyperpolarized-mri-toolbox\\recon\\prostate demo\\dummy_ddf: No such file or directory\n",
      "warning: load-path: update failed for 'C:\\Users\\PLarson\\Documents\\GitHub\\hyperpolarized-mri-toolbox\\recon\\prostate demo\\dummy_ddf', removing from path\n",
      "warning: load_path: C:\\Users\\PLarson\\Documents\\GitHub\\hyperpolarized-mri-toolbox\\recon\\prostate demo: No such file or directory\n",
      "warning: load-path: update failed for 'C:\\Users\\PLarson\\Documents\\GitHub\\hyperpolarized-mri-toolbox\\recon\\prostate demo', removing from path\n",
      "warning: load_path: C:\\Users\\PLarson\\Documents\\GitHub\\hyperpolarized-mri-toolbox\\recon\\prostate demo\\dummy_ddf: No such file or directory\n",
      "warning: load-path: update failed for 'C:\\Users\\PLarson\\Documents\\GitHub\\hyperpolarized-mri-toolbox\\recon\\prostate demo\\dummy_ddf', removing from path\n",
      "warning: load_path: C:\\Users\\PLarson\\Documents\\GitHub\\hyperpolarized-mri-toolbox\\recon\\prostate demo: No such file or directory\n",
      "warning: load-path: update failed for 'C:\\Users\\PLarson\\Documents\\GitHub\\hyperpolarized-mri-toolbox\\recon\\prostate demo', removing from path\n",
      "warning: load_path: C:\\Users\\PLarson\\Documents\\GitHub\\hyperpolarized-mri-toolbox\\recon\\prostate demo\\dummy_ddf: No such file or directory\n",
      "warning: load-path: update failed for 'C:\\Users\\PLarson\\Documents\\GitHub\\hyperpolarized-mri-toolbox\\recon\\prostate demo\\dummy_ddf', removing from path\n",
      "warning: load_path: C:\\Users\\PLarson\\Documents\\GitHub\\hyperpolarized-mri-toolbox\\recon\\prostate demo: No such file or directory\n",
      "warning: load-path: update failed for 'C:\\Users\\PLarson\\Documents\\GitHub\\hyperpolarized-mri-toolbox\\recon\\prostate demo', removing from path\n",
      "warning: load_path: C:\\Users\\PLarson\\Documents\\GitHub\\hyperpolarized-mri-toolbox\\recon\\prostate demo\\dummy_ddf: No such file or directory\n",
      "warning: load-path: update failed for 'C:\\Users\\PLarson\\Documents\\GitHub\\hyperpolarized-mri-toolbox\\recon\\prostate demo\\dummy_ddf', removing from path\n",
      "warning: load_path: C:\\Users\\PLarson\\Documents\\GitHub\\hyperpolarized-mri-toolbox\\recon\\prostate demo: No such file or directory\n",
      "warning: load-path: update failed for 'C:\\Users\\PLarson\\Documents\\GitHub\\hyperpolarized-mri-toolbox\\recon\\prostate demo', removing from path\n",
      "warning: load_path: C:\\Users\\PLarson\\Documents\\GitHub\\hyperpolarized-mri-toolbox\\recon\\prostate demo\\dummy_ddf: No such file or directory\n",
      "warning: load-path: update failed for 'C:\\Users\\PLarson\\Documents\\GitHub\\hyperpolarized-mri-toolbox\\recon\\prostate demo\\dummy_ddf', removing from path\n",
      "warning: load_path: C:\\Users\\PLarson\\Documents\\GitHub\\hyperpolarized-mri-toolbox\\recon\\prostate demo: No such file or directory\n",
      "warning: load-path: update failed for 'C:\\Users\\PLarson\\Documents\\GitHub\\hyperpolarized-mri-toolbox\\recon\\prostate demo', removing from path\n",
      "warning: load_path: C:\\Users\\PLarson\\Documents\\GitHub\\hyperpolarized-mri-toolbox\\recon\\prostate demo\\dummy_ddf: No such file or directory\n",
      "warning: load-path: update failed for 'C:\\Users\\PLarson\\Documents\\GitHub\\hyperpolarized-mri-toolbox\\recon\\prostate demo\\dummy_ddf', removing from path\n",
      "warning: load_path: C:\\Users\\PLarson\\Documents\\GitHub\\hyperpolarized-mri-toolbox\\recon\\prostate demo: No such file or directory\n",
      "warning: load-path: update failed for 'C:\\Users\\PLarson\\Documents\\GitHub\\hyperpolarized-mri-toolbox\\recon\\prostate demo', removing from path\n",
      "warning: load_path: C:\\Users\\PLarson\\Documents\\GitHub\\hyperpolarized-mri-toolbox\\recon\\prostate demo\\dummy_ddf: No such file or directory\n",
      "warning: load-path: update failed for 'C:\\Users\\PLarson\\Documents\\GitHub\\hyperpolarized-mri-toolbox\\recon\\prostate demo\\dummy_ddf', removing from path\n"
     ]
    }
   ],
   "source": [
    "%% Display a subset of the results\n",
    "%Note the difference in mean arrival time between pyruvate and lactate\n",
    "figure;\n",
    "subplot(121),montage(permute(mean_time_map(:,:,:,1),[1 2 4 3]),'DisplayRange', ... \n",
    "    [10 30],'Size',[3 3])\n",
    "title('Pyruvate Mean Arrival Time')\n",
    "subplot(122),montage(permute(mean_time_map(:,:,:,2),[1 2 4 3]),'DisplayRange', ... \n",
    "    [10 30],'Size',[3 3])\n",
    "title('Lactate Mean Arrival Time')\n",
    "%set(gcf,'units','normalized','outerposition',[0.2 0.2 0.6 0.5])\n",
    "\n"
   ]
  },
  {
   "cell_type": "code",
   "execution_count": 18,
   "metadata": {},
   "outputs": [
    {
     "name": "stdout",
     "output_type": "stream",
     "text": [
      "warning: load_path: C:\\Users\\PLarson\\Documents\\GitHub\\hyperpolarized-mri-toolbox\\recon\\prostate demo: No such file or directory\n",
      "warning: load-path: update failed for 'C:\\Users\\PLarson\\Documents\\GitHub\\hyperpolarized-mri-toolbox\\recon\\prostate demo', removing from path\n",
      "warning: load_path: C:\\Users\\PLarson\\Documents\\GitHub\\hyperpolarized-mri-toolbox\\recon\\prostate demo\\dummy_ddf: No such file or directory\n",
      "warning: load-path: update failed for 'C:\\Users\\PLarson\\Documents\\GitHub\\hyperpolarized-mri-toolbox\\recon\\prostate demo\\dummy_ddf', removing from path\n",
      "warning: load_path: C:\\Users\\PLarson\\Documents\\GitHub\\hyperpolarized-mri-toolbox\\recon\\prostate demo: No such file or directory\n",
      "warning: load-path: update failed for 'C:\\Users\\PLarson\\Documents\\GitHub\\hyperpolarized-mri-toolbox\\recon\\prostate demo', removing from path\n",
      "warning: load_path: C:\\Users\\PLarson\\Documents\\GitHub\\hyperpolarized-mri-toolbox\\recon\\prostate demo\\dummy_ddf: No such file or directory\n",
      "warning: load-path: update failed for 'C:\\Users\\PLarson\\Documents\\GitHub\\hyperpolarized-mri-toolbox\\recon\\prostate demo\\dummy_ddf', removing from path\n",
      "error: print: directory C:\\Users\\PLarson\\AppData\\Local\\Temp\\1\\tmppah0w1go does not exist\n",
      "error: called from\n",
      "    _make_figures>safe_print at line 125 column 7\n",
      "    _make_figures at line 49 column 13\n",
      "warning: load_path: C:\\Users\\PLarson\\Documents\\GitHub\\hyperpolarized-mri-toolbox\\recon\\prostate demo: No such file or directory\n",
      "warning: load-path: update failed for 'C:\\Users\\PLarson\\Documents\\GitHub\\hyperpolarized-mri-toolbox\\recon\\prostate demo', removing from path\n",
      "warning: load_path: C:\\Users\\PLarson\\Documents\\GitHub\\hyperpolarized-mri-toolbox\\recon\\prostate demo\\dummy_ddf: No such file or directory\n",
      "warning: load-path: update failed for 'C:\\Users\\PLarson\\Documents\\GitHub\\hyperpolarized-mri-toolbox\\recon\\prostate demo\\dummy_ddf', removing from path\n",
      "warning: load_path: C:\\Users\\PLarson\\Documents\\GitHub\\hyperpolarized-mri-toolbox\\recon\\prostate demo: No such file or directory\n",
      "warning: load-path: update failed for 'C:\\Users\\PLarson\\Documents\\GitHub\\hyperpolarized-mri-toolbox\\recon\\prostate demo', removing from path\n",
      "warning: load_path: C:\\Users\\PLarson\\Documents\\GitHub\\hyperpolarized-mri-toolbox\\recon\\prostate demo\\dummy_ddf: No such file or directory\n",
      "warning: load-path: update failed for 'C:\\Users\\PLarson\\Documents\\GitHub\\hyperpolarized-mri-toolbox\\recon\\prostate demo\\dummy_ddf', removing from path\n",
      "warning: load_path: C:\\Users\\PLarson\\Documents\\GitHub\\hyperpolarized-mri-toolbox\\recon\\prostate demo: No such file or directory\n",
      "warning: load-path: update failed for 'C:\\Users\\PLarson\\Documents\\GitHub\\hyperpolarized-mri-toolbox\\recon\\prostate demo', removing from path\n",
      "warning: load_path: C:\\Users\\PLarson\\Documents\\GitHub\\hyperpolarized-mri-toolbox\\recon\\prostate demo\\dummy_ddf: No such file or directory\n",
      "warning: load-path: update failed for 'C:\\Users\\PLarson\\Documents\\GitHub\\hyperpolarized-mri-toolbox\\recon\\prostate demo\\dummy_ddf', removing from path\n",
      "warning: load_path: C:\\Users\\PLarson\\Documents\\GitHub\\hyperpolarized-mri-toolbox\\recon\\prostate demo: No such file or directory\n",
      "warning: load-path: update failed for 'C:\\Users\\PLarson\\Documents\\GitHub\\hyperpolarized-mri-toolbox\\recon\\prostate demo', removing from path\n",
      "warning: load_path: C:\\Users\\PLarson\\Documents\\GitHub\\hyperpolarized-mri-toolbox\\recon\\prostate demo\\dummy_ddf: No such file or directory\n",
      "warning: load-path: update failed for 'C:\\Users\\PLarson\\Documents\\GitHub\\hyperpolarized-mri-toolbox\\recon\\prostate demo\\dummy_ddf', removing from path\n",
      "warning: load_path: C:\\Users\\PLarson\\Documents\\GitHub\\hyperpolarized-mri-toolbox\\recon\\prostate demo: No such file or directory\n",
      "warning: load-path: update failed for 'C:\\Users\\PLarson\\Documents\\GitHub\\hyperpolarized-mri-toolbox\\recon\\prostate demo', removing from path\n",
      "warning: load_path: C:\\Users\\PLarson\\Documents\\GitHub\\hyperpolarized-mri-toolbox\\recon\\prostate demo\\dummy_ddf: No such file or directory\n",
      "warning: load-path: update failed for 'C:\\Users\\PLarson\\Documents\\GitHub\\hyperpolarized-mri-toolbox\\recon\\prostate demo\\dummy_ddf', removing from path\n",
      "warning: load_path: C:\\Users\\PLarson\\Documents\\GitHub\\hyperpolarized-mri-toolbox\\recon\\prostate demo: No such file or directory\n",
      "warning: load-path: update failed for 'C:\\Users\\PLarson\\Documents\\GitHub\\hyperpolarized-mri-toolbox\\recon\\prostate demo', removing from path\n",
      "warning: load_path: C:\\Users\\PLarson\\Documents\\GitHub\\hyperpolarized-mri-toolbox\\recon\\prostate demo\\dummy_ddf: No such file or directory\n",
      "warning: load-path: update failed for 'C:\\Users\\PLarson\\Documents\\GitHub\\hyperpolarized-mri-toolbox\\recon\\prostate demo\\dummy_ddf', removing from path\n",
      "warning: load_path: C:\\Users\\PLarson\\Documents\\GitHub\\hyperpolarized-mri-toolbox\\recon\\prostate demo: No such file or directory\n",
      "warning: load-path: update failed for 'C:\\Users\\PLarson\\Documents\\GitHub\\hyperpolarized-mri-toolbox\\recon\\prostate demo', removing from path\n",
      "warning: load_path: C:\\Users\\PLarson\\Documents\\GitHub\\hyperpolarized-mri-toolbox\\recon\\prostate demo\\dummy_ddf: No such file or directory\n",
      "warning: load-path: update failed for 'C:\\Users\\PLarson\\Documents\\GitHub\\hyperpolarized-mri-toolbox\\recon\\prostate demo\\dummy_ddf', removing from path\n"
     ]
    }
   ],
   "source": [
    "%Note the similarity between kPL and lactate-to-pyuvater AUC ratio maps\n",
    "figure;\n",
    "subplot(121),montage(permute(lp_ratio,[1 2 4 3]),'Size',[3 3], ... \n",
    "    'DisplayRange',[0 1].*max(lp_ratio(:)))\n",
    "title('k_{PL}')\n",
    "subplot(122),montage(permute(kpl,[1 2 4 3]),'Size',[3 3], ...\n",
    "    'DisplayRange',[0 1].*max(kpl(:)))\n",
    "title('Lactate/Pyruvate Ratio')\n",
    "%set(gcf,'units','normalized','outerposition',[0.2 0.2 0.6 0.5])"
   ]
  }
 ],
 "metadata": {
  "kernelspec": {
   "display_name": "Octave",
   "language": "octave",
   "name": "octave"
  },
  "language_info": {
   "file_extension": ".m",
   "help_links": [
    {
     "text": "GNU Octave",
     "url": "https://www.gnu.org/software/octave/support.html"
    },
    {
     "text": "Octave Kernel",
     "url": "https://github.com/Calysto/octave_kernel"
    },
    {
     "text": "MetaKernel Magics",
     "url": "https://metakernel.readthedocs.io/en/latest/source/README.html"
    }
   ],
   "mimetype": "text/x-octave",
   "name": "octave",
   "version": "5.1.0"
  }
 },
 "nbformat": 4,
 "nbformat_minor": 2
}
