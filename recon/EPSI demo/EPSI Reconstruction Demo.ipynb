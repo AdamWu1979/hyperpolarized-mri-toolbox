{
 "cells": [
  {
   "cell_type": "markdown",
   "metadata": {},
   "source": [
    "# Hyperpolarized C13 EPSI Reconstruction Demo"
   ]
  },
  {
   "cell_type": "markdown",
   "metadata": {},
   "source": [
    "This demonstration shows the reconstruction of a Hyperpolarized C13 echo-planar spectroscopic imaging (EPSI) reconstruction, specifically for data acquired with a compressed-sensing EPSI pulse sequence.  This sequence uses pseudo-random blip gradients during the EPSI readout to randomly cover k-space.  These random blips vary across dynamic time points as well.  Additional details about the sampling and reconstruction can be found in\n",
    "\n",
    "https://doi.org/10.1002/mrm.22650\n",
    "\n",
    "https://doi.org/10.1002/mrm.27179\n",
    "\n",
    "\n",
    "## Install code, setup path\n",
    "\n",
    "To run this code you will need to clone the hyperpolarized MRI toolbox\n",
    "repository from github and add it to your matlab path. \n",
    "This can be done with the following command:\n",
    "'git clone https://github.com/LarsonLab/hyperpolarized-mri-toolbox/'\n",
    "\n",
    "This also requires the Optimization Toolbox (Matlab) or 'optim' toolbox (Octave) for the kinetic model fitting and Image Processing Toolbox ('image' in Octave) for plots\n"
   ]
  },
  {
   "cell_type": "code",
   "execution_count": 8,
   "metadata": {},
   "outputs": [
    {
     "name": "stdout",
     "output_type": "stream",
     "text": [
      "loading optim\n",
      "loading image\n",
      "error: recon/EPI demo: No such file or directory\n"
     ]
    }
   ],
   "source": [
    "% setup hyperpolarized-mri-toolbox\n",
    "%cd ../../\n",
    "%startup"
   ]
  },
  {
   "cell_type": "code",
   "execution_count": 1,
   "metadata": {},
   "outputs": [],
   "source": [
    "% Setup data structures\n",
    "clear all\n",
    "\n",
    "root_dir = sprintf('%s/',pwd);\n",
    "fb_root_name = 'csimage_in';\n",
    "samp_pattern_name = 'loc_samp_3d_dyn';\n",
    "numReps = 18;"
   ]
  },
  {
   "cell_type": "code",
   "execution_count": 2,
   "metadata": {},
   "outputs": [
    {
     "name": "stdout",
     "output_type": "stream",
     "text": [
      "warning: addpath: /netopt/share/lib/local/brain/matlab: No such file or directory\n",
      "warning: called from\n",
      "    recon_cs3d_dyn_sivic_v1 at line 9 column 1\n",
      "error: 'parpool' undefined near line 71 column 11\n",
      "error: called from\n",
      "    recon_cs3d_dyn_sivic_v1 at line 71 column 9\n"
     ]
    }
   ],
   "source": [
    "% fill in missing k-space data using a compressed sensing reconstruction\n",
    "\n",
    "kspace_all = recon_cs3d_dyn_sivic_v1(root_dir, fb_root_name, samp_pattern_name, ...\n",
    "    numReps);"
   ]
  },
  {
   "cell_type": "code",
   "execution_count": null,
   "metadata": {},
   "outputs": [],
   "source": [
    "% save dynamic data\n",
    "tmp_csreorder = read_ddf_image('dummy_ddf/dynth01_phased');\n",
    "dynamic_cs.ddf = set_ddf_dyn_dim(tmp_csreorder.ddf, 'dynamic_cs', numReps);  \n",
    "dynamic_cs.ddf.specpoints = 59;\n",
    "dynamic_cs.img = kspace_all;\n",
    "dynamic_cs.img = fftshift(fft(dynamic_cs.img,[],1),1);\n",
    "for fftdim = 2:4,\n",
    "    dynamic_cs.img = fftshift(ifft(dynamic_cs.img,[],fftdim),fftdim);\n",
    "end\n",
    "write_ddf_image_ex([root_dir 'dynamic_cs'],dynamic_cs);"
   ]
  }
 ],
 "metadata": {
  "kernelspec": {
   "display_name": "Octave",
   "language": "octave",
   "name": "octave"
  },
  "language_info": {
   "file_extension": ".m",
   "help_links": [
    {
     "text": "GNU Octave",
     "url": "https://www.gnu.org/software/octave/support.html"
    },
    {
     "text": "Octave Kernel",
     "url": "https://github.com/Calysto/octave_kernel"
    },
    {
     "text": "MetaKernel Magics",
     "url": "https://metakernel.readthedocs.io/en/latest/source/README.html"
    }
   ],
   "mimetype": "text/x-octave",
   "name": "octave",
   "version": "5.1.0"
  }
 },
 "nbformat": 4,
 "nbformat_minor": 2
}
