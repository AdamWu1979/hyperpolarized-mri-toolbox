{
 "cells": [
  {
   "cell_type": "markdown",
   "metadata": {},
   "source": [
    "Jupyter Octave Kernel\n",
    "============\n",
    "\n",
    "Interact with Octave in Notebook. All commands are interpreted by Octave.  Since this is a [MetaKernel](https://github.com/Calysto/metakernel), a standard set of magics are available.  Help on commands is available using the `%help` magic or using `?` with a command."
   ]
  },
  {
   "cell_type": "code",
   "execution_count": null,
   "metadata": {},
   "outputs": [],
   "source": [
    "fit_function = @fit_kPL;\n",
    "plot_fits = 1;\n",
    "\n",
    "% Test values\n",
    "Tin = 0; Tacq = 48; TR = 3; N = Tacq/TR;\n",
    "R1P = 1/25; R1L = 1/25; kPL = 0.05; std_noise = 0.01;\n",
    "input_function = zeros(1,N);\n",
    "\n",
    "input_condition = 4; % choose from various simulated starting conditions\n",
    "switch input_condition\n",
    "    case 1\n",
    "        % gamma variate input function - most realistic\n",
    "        t = [1:N]*TR;\n",
    "        Tarrival = 0;  Tbolus = 12;\n",
    "        input_function = realistic_input_function(N, TR, Tarrival, Tbolus);\n",
    "        Mz0 = [0,0]; \n",
    "    case 2\n",
    "        % boxcar input function\n",
    "        Tbolus = 12;  Tarrival = 0;\n",
    "        Ibolus = [1:round(Tbolus/TR)] + round(Tarrival/TR);\n",
    "        Rinj = 1/Tbolus; % normalize for a total magnetization input = 1\n",
    "        Mz0 = [0,0]; input_function(Ibolus) =  Rinj*TR;\n",
    "    case 3\n",
    "        Mz0 = [1.5,0]; % no input function\n",
    "    case 4\n",
    "        Tin = 6; Mz0 = Tin; % no input function, delayed start\n",
    "end\n"
   ]
  },
  {
   "cell_type": "code",
   "execution_count": null,
   "metadata": {},
   "outputs": [],
   "source": [
    "\n",
    "% Test over multiple combinations of flip angle schemes\n",
    "flips(1:2,1:N,1) = ones(2,N)*30*pi/180;  flip_descripton{1} = 'constant, single-band';\n",
    "flips(1:2,1:N,2) = repmat([20;35]*pi/180,[1 N]);  flip_descripton{2} = 'constant, multi-band';\n",
    "k12 = 0.05; % for variable flip angle designs\n",
    "flips(1:2,1:N,3) = [vfa_const_amp(N, pi/2, exp(-TR * ( k12))); ... % T1-effective pyruvate variable flip angles\n",
    "    vfa_opt_signal(N, exp(-TR * ( R1L)))]; % max lactate SNR variable flip angle\n",
    "flip_descripton{3} = 'max lactate SNR variable flip, multi-band';\n",
    "% flips(1:2,1:N,4) = repmat(vfa_const_amp(N, pi/2), [2,1]);  % RF compensated variable flip angle\n",
    "% flips(1:2,1:N,5) = [vfa_const_amp(N, pi/2, exp(-TR * ( k12))); ... % T1-effective variable flip angle\n",
    "%     vfa_const_amp(N, pi/2, exp(-TR * ( - k12)))];\n",
    "% flips(1:2,1:N,6) = [vfa_const_amp(N, pi/2, exp(-TR * (k12))); ... % saturation recovery\n",
    "%     ones(1,N)*pi/2];\n",
    "N_flip_schemes = size(flips,3);\n",
    "\n",
    "t = [0:N-1]*TR + Tin;\n",
    "\n",
    "figure\n",
    "subplot(121) , plot(t, squeeze(flips(1,:,:))*180/pi)\n",
    "title('Pyruvate flips')\n",
    "subplot(122) , plot(t, squeeze(flips(2,:,:))*180/pi)\n",
    "title('Lactate flips')\n",
    "legend(flip_descripton)\n"
   ]
  }
 ],
 "metadata": {
  "anaconda-cloud": {},
  "kernelspec": {
   "display_name": "Octave",
   "language": "octave",
   "name": "octave"
  },
  "language_info": {
   "file_extension": ".m",
   "help_links": [
    {
     "text": "MetaKernel Magics",
     "url": "https://github.com/calysto/metakernel/blob/master/metakernel/magics/README.md"
    }
   ],
   "mimetype": "text/x-octave",
   "name": "octave",
   "version": "0.19.17"
  }
 },
 "nbformat": 4,
 "nbformat_minor": 1
}
